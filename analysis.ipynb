{
 "cells": [
  {
   "cell_type": "code",
   "execution_count": 1,
   "metadata": {},
   "outputs": [],
   "source": [
    "import pandas as pd"
   ]
  },
  {
   "cell_type": "code",
   "execution_count": 4,
   "metadata": {},
   "outputs": [
    {
     "name": "stderr",
     "output_type": "stream",
     "text": [
      "c:\\Users\\Didi\\anaconda3\\lib\\site-packages\\IPython\\core\\interactiveshell.py:3444: DtypeWarning: Columns (5,7) have mixed types.Specify dtype option on import or set low_memory=False.\n",
      "  exec(code_obj, self.user_global_ns, self.user_ns)\n"
     ]
    }
   ],
   "source": [
    "july22_df = pd.read_csv(\"july22-citbike-tripdata.csv\")"
   ]
  },
  {
   "cell_type": "code",
   "execution_count": 5,
   "metadata": {},
   "outputs": [
    {
     "data": {
      "text/html": [
       "<div>\n",
       "<style scoped>\n",
       "    .dataframe tbody tr th:only-of-type {\n",
       "        vertical-align: middle;\n",
       "    }\n",
       "\n",
       "    .dataframe tbody tr th {\n",
       "        vertical-align: top;\n",
       "    }\n",
       "\n",
       "    .dataframe thead th {\n",
       "        text-align: right;\n",
       "    }\n",
       "</style>\n",
       "<table border=\"1\" class=\"dataframe\">\n",
       "  <thead>\n",
       "    <tr style=\"text-align: right;\">\n",
       "      <th></th>\n",
       "      <th>ride_id</th>\n",
       "      <th>rideable_type</th>\n",
       "      <th>started_at</th>\n",
       "      <th>ended_at</th>\n",
       "      <th>start_station_name</th>\n",
       "      <th>start_station_id</th>\n",
       "      <th>end_station_name</th>\n",
       "      <th>end_station_id</th>\n",
       "      <th>start_lat</th>\n",
       "      <th>start_lng</th>\n",
       "      <th>end_lat</th>\n",
       "      <th>end_lng</th>\n",
       "      <th>member_casual</th>\n",
       "    </tr>\n",
       "  </thead>\n",
       "  <tbody>\n",
       "    <tr>\n",
       "      <th>0</th>\n",
       "      <td>C09E4093905089BD</td>\n",
       "      <td>classic_bike</td>\n",
       "      <td>2022-07-23 11:34:57</td>\n",
       "      <td>2022-07-23 11:45:08</td>\n",
       "      <td>Melrose St &amp; Broadway</td>\n",
       "      <td>4801.04</td>\n",
       "      <td>Myrtle Ave &amp; Grove St</td>\n",
       "      <td>4816.05</td>\n",
       "      <td>40.697481</td>\n",
       "      <td>-73.935877</td>\n",
       "      <td>40.699050</td>\n",
       "      <td>-73.915160</td>\n",
       "      <td>member</td>\n",
       "    </tr>\n",
       "    <tr>\n",
       "      <th>1</th>\n",
       "      <td>374630DB5822C392</td>\n",
       "      <td>electric_bike</td>\n",
       "      <td>2022-07-29 18:19:08</td>\n",
       "      <td>2022-07-29 18:26:50</td>\n",
       "      <td>E 68 St &amp; 3 Ave</td>\n",
       "      <td>6896.16</td>\n",
       "      <td>E 85 St &amp; York Ave</td>\n",
       "      <td>7146.04</td>\n",
       "      <td>40.767128</td>\n",
       "      <td>-73.962246</td>\n",
       "      <td>40.775369</td>\n",
       "      <td>-73.948034</td>\n",
       "      <td>member</td>\n",
       "    </tr>\n",
       "    <tr>\n",
       "      <th>2</th>\n",
       "      <td>4F73CA25880A1215</td>\n",
       "      <td>electric_bike</td>\n",
       "      <td>2022-07-16 16:30:58</td>\n",
       "      <td>2022-07-16 17:39:18</td>\n",
       "      <td>W 37 St &amp; 10 Ave</td>\n",
       "      <td>6611.02</td>\n",
       "      <td>Knickerbocker Ave &amp; Cooper St</td>\n",
       "      <td>4582.05</td>\n",
       "      <td>40.756604</td>\n",
       "      <td>-73.997901</td>\n",
       "      <td>40.690810</td>\n",
       "      <td>-73.904480</td>\n",
       "      <td>member</td>\n",
       "    </tr>\n",
       "    <tr>\n",
       "      <th>3</th>\n",
       "      <td>ECD6EE19C0CC1D31</td>\n",
       "      <td>electric_bike</td>\n",
       "      <td>2022-07-17 17:35:57</td>\n",
       "      <td>2022-07-17 18:03:36</td>\n",
       "      <td>W 37 St &amp; 10 Ave</td>\n",
       "      <td>6611.02</td>\n",
       "      <td>6 Ave &amp; Broome St</td>\n",
       "      <td>5610.09</td>\n",
       "      <td>40.756604</td>\n",
       "      <td>-73.997901</td>\n",
       "      <td>40.724310</td>\n",
       "      <td>-74.004730</td>\n",
       "      <td>member</td>\n",
       "    </tr>\n",
       "    <tr>\n",
       "      <th>4</th>\n",
       "      <td>44D0987673B9997D</td>\n",
       "      <td>classic_bike</td>\n",
       "      <td>2022-07-11 07:56:29</td>\n",
       "      <td>2022-07-11 07:59:15</td>\n",
       "      <td>E 68 St &amp; 3 Ave</td>\n",
       "      <td>6896.16</td>\n",
       "      <td>E 66 St &amp; Madison Ave</td>\n",
       "      <td>6969.08</td>\n",
       "      <td>40.767128</td>\n",
       "      <td>-73.962246</td>\n",
       "      <td>40.768009</td>\n",
       "      <td>-73.968453</td>\n",
       "      <td>member</td>\n",
       "    </tr>\n",
       "  </tbody>\n",
       "</table>\n",
       "</div>"
      ],
      "text/plain": [
       "            ride_id  rideable_type           started_at             ended_at  \\\n",
       "0  C09E4093905089BD   classic_bike  2022-07-23 11:34:57  2022-07-23 11:45:08   \n",
       "1  374630DB5822C392  electric_bike  2022-07-29 18:19:08  2022-07-29 18:26:50   \n",
       "2  4F73CA25880A1215  electric_bike  2022-07-16 16:30:58  2022-07-16 17:39:18   \n",
       "3  ECD6EE19C0CC1D31  electric_bike  2022-07-17 17:35:57  2022-07-17 18:03:36   \n",
       "4  44D0987673B9997D   classic_bike  2022-07-11 07:56:29  2022-07-11 07:59:15   \n",
       "\n",
       "      start_station_name start_station_id               end_station_name  \\\n",
       "0  Melrose St & Broadway          4801.04          Myrtle Ave & Grove St   \n",
       "1        E 68 St & 3 Ave          6896.16             E 85 St & York Ave   \n",
       "2       W 37 St & 10 Ave          6611.02  Knickerbocker Ave & Cooper St   \n",
       "3       W 37 St & 10 Ave          6611.02              6 Ave & Broome St   \n",
       "4        E 68 St & 3 Ave          6896.16          E 66 St & Madison Ave   \n",
       "\n",
       "  end_station_id  start_lat  start_lng    end_lat    end_lng member_casual  \n",
       "0        4816.05  40.697481 -73.935877  40.699050 -73.915160        member  \n",
       "1        7146.04  40.767128 -73.962246  40.775369 -73.948034        member  \n",
       "2        4582.05  40.756604 -73.997901  40.690810 -73.904480        member  \n",
       "3        5610.09  40.756604 -73.997901  40.724310 -74.004730        member  \n",
       "4        6969.08  40.767128 -73.962246  40.768009 -73.968453        member  "
      ]
     },
     "execution_count": 5,
     "metadata": {},
     "output_type": "execute_result"
    }
   ],
   "source": [
    "july22_df.head()"
   ]
  },
  {
   "cell_type": "code",
   "execution_count": 8,
   "metadata": {},
   "outputs": [
    {
     "data": {
      "text/plain": [
       "Index(['ride_id', 'rideable_type', 'started_at', 'ended_at',\n",
       "       'start_station_name', 'start_station_id', 'end_station_name',\n",
       "       'end_station_id', 'start_lat', 'start_lng', 'end_lat', 'end_lng',\n",
       "       'member_casual'],\n",
       "      dtype='object')"
      ]
     },
     "execution_count": 8,
     "metadata": {},
     "output_type": "execute_result"
    }
   ],
   "source": [
    "july22_df.columns"
   ]
  },
  {
   "cell_type": "markdown",
   "metadata": {},
   "source": [
    "### Links to my Tableau Public workbook:\n",
    "\n",
    "  * Dashboard 1: https://public.tableau.com/app/profile/diana1416/viz/citi-bikes-challenge/Dashboard1?publish=yes\n",
    "\n",
    "  * Dashboard 2: https://public.tableau.com/app/profile/diana1416/viz/citi-bikes-challenge-D2/Dashboard2?publish=yes\n",
    "\n",
    "  * 1 city official map: https://public.tableau.com/app/profile/diana1416/viz/citi-bikes-challenge-map/map?publish=yes\n",
    "\n",
    "  * Story: https://public.tableau.com/app/profile/diana1416/viz/citi-bikes-challenge-story/Story1?publish=yes"
   ]
  },
  {
   "cell_type": "markdown",
   "metadata": {},
   "source": [
    "## Analysis\n",
    "\n",
    "* In July 2022 the CitiBike service was used 3.5 million times, most of them members. Nearly 840 thousand were casual users, about 25%. \n",
    "\n",
    "* The biggest difference that can be observed between the two types of users is that all docked bikes were rented by casual users.\n",
    "\n",
    "* In addition, the most used stations are all located in the heart of New York City, with a clear focus on Central Park.\n",
    "\n",
    "* The busiest and the most popular station in the city, both as a start and end station, is the one located at West St. & Chambers St."
   ]
  },
  {
   "cell_type": "markdown",
   "metadata": {},
   "source": [
    "### Workbook\n",
    "\n",
    "Disclaimer: \n",
    "It was requested the workbook to be submitted workbook as a `.twbx` file format but I could not find the \"save as .twbx\" option in the file dropdown Tableau menu. "
   ]
  }
 ],
 "metadata": {
  "kernelspec": {
   "display_name": "Python 3.9.7 ('base')",
   "language": "python",
   "name": "python3"
  },
  "language_info": {
   "codemirror_mode": {
    "name": "ipython",
    "version": 3
   },
   "file_extension": ".py",
   "mimetype": "text/x-python",
   "name": "python",
   "nbconvert_exporter": "python",
   "pygments_lexer": "ipython3",
   "version": "3.9.7"
  },
  "orig_nbformat": 4,
  "vscode": {
   "interpreter": {
    "hash": "1d4b4d99b5e84493afab03ed593eb1d1bc23c15333c006dc20fe35c1b08d0cba"
   }
  }
 },
 "nbformat": 4,
 "nbformat_minor": 2
}
